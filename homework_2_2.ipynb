{
 "cells": [
  {
   "cell_type": "code",
   "execution_count": 227,
   "metadata": {},
   "outputs": [],
   "source": [
    "import numpy as np\n"
   ]
  },
  {
   "cell_type": "code",
   "execution_count": 228,
   "metadata": {},
   "outputs": [],
   "source": [
    "C=\"Cat\"\n",
    "F=\"Fish\"\n",
    "H=\"Hen\"\n",
    "# истинныезначениz\n",
    "y_true = [C,C,C,C,C,C, F,F,F,F,F,F,F,F,F,F, H,H,H,H,H,H,H,H,H]\n",
    "# результатсистемы\n",
    "y_pred = [C,C,C,C,H,F, C,C,C,C,C,C,H,H,F,F, C,C,C,H,H,H,H,H,H]\n",
    "\n",
    "labels = {'Cat': 0, 'Fish': 1, 'Hen': 2}\n",
    "\n",
    "# Кодирование истинных и предсказанных меток\n",
    "y_true_encoded = np.array([labels[label] for label in y_true])\n",
    "y_pred_encoded = np.array([labels[label] for label in y_pred])\n"
   ]
  },
  {
   "cell_type": "code",
   "execution_count": 230,
   "metadata": {},
   "outputs": [
    {
     "name": "stdout",
     "output_type": "stream",
     "text": [
      "\t Precision\tRecall\tF1-Score\n",
      "Cat\t\t0.31\t0.67\t 0.42\n",
      "Fish\t\t0.67\t0.2\t 0.31\n",
      "Hen\t\t0.67\t0.67\t 0.67\n",
      "\n",
      "macro avg \t0.55\t0.51\t0.47\n",
      "weighted avg \t0.58\t0.48\t0.46\n"
     ]
    }
   ],
   "source": [
    "# Вычисление метрик precision, recall и f1-score для каждого класса\n",
    "precision_per_class = []\n",
    "recall_per_class = []\n",
    "f1_score_per_class = []\n",
    "\n",
    "for label_id in range(len(labels)):\n",
    "    TP = np.sum((y_true_encoded == label_id) & (y_pred_encoded == label_id))\n",
    "    FP = np.sum((y_true_encoded != label_id) & (y_pred_encoded == label_id))\n",
    "    FN = np.sum((y_true_encoded == label_id) & (y_pred_encoded != label_id))\n",
    "\n",
    "    precision = TP / (TP + FP) if TP + FP > 0 else 0\n",
    "    recall = TP / (TP + FN) if TP + FN > 0 else 0\n",
    "    f1_score = 2 * (precision * recall) / (precision + recall) if precision + recall > 0 else 0\n",
    "\n",
    "    precision_per_class.append(precision)\n",
    "    recall_per_class.append(recall)\n",
    "    f1_score_per_class.append(f1_score)\n",
    "\n",
    "# Вычисление macro avg\n",
    "macro_avg_precision = np.mean(precision_per_class)\n",
    "macro_avg_recall = np.mean(recall_per_class)\n",
    "macro_avg_f1_score = np.mean(f1_score_per_class)\n",
    "\n",
    "# Вычисление weighted avg\n",
    "class_counts = [np.sum(y_true_encoded == label_id) for label_id in range(len(labels))]\n",
    "weighted_avg_precision = np.average(precision_per_class, weights=class_counts)\n",
    "weighted_avg_recall = np.average(recall_per_class, weights=class_counts)\n",
    "weighted_avg_f1_score = np.average(f1_score_per_class, weights=class_counts)\n",
    "\n",
    "# Вывод результатов\n",
    "\n",
    "print(\"\\t Precision\\tRecall\\tF1-Score\")\n",
    "\n",
    "for (key, value) in labels.items():\n",
    "    print(f\"{key}\\t\\t{round(precision_per_class[value],2)}\\t{round(recall_per_class[value],2)}\\t {round(f1_score_per_class[value],2)}\")\n",
    "    \n",
    "\n",
    "print()\n",
    "print(f\"macro avg \\t{round(macro_avg_precision,2)}\\t{round(macro_avg_recall,2)}\\t{round(macro_avg_f1_score,2)}\")\n",
    "print(f\"weighted avg \\t{round(weighted_avg_precision,2)}\\t{round(weighted_avg_recall,2)}\\t{round(weighted_avg_f1_score,2)}\")\n"
   ]
  }
 ],
 "metadata": {
  "kernelspec": {
   "display_name": "Python 3",
   "language": "python",
   "name": "python3"
  },
  "language_info": {
   "codemirror_mode": {
    "name": "ipython",
    "version": 3
   },
   "file_extension": ".py",
   "mimetype": "text/x-python",
   "name": "python",
   "nbconvert_exporter": "python",
   "pygments_lexer": "ipython3",
   "version": "3.10.11"
  },
  "orig_nbformat": 4
 },
 "nbformat": 4,
 "nbformat_minor": 2
}
