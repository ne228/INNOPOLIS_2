{
 "cells": [
  {
   "cell_type": "code",
   "execution_count": 108,
   "metadata": {},
   "outputs": [],
   "source": [
    "import numpy as np\n",
    "import pandas as pd\n",
    "from sklearn.linear_model import LinearRegression\n",
    "from sklearn.model_selection import train_test_split\n",
    "from sklearn.metrics import mean_squared_error, r2_score\n",
    "from sklearn.preprocessing import LabelEncoder\n",
    "from sklearn.preprocessing import MinMaxScaler"
   ]
  },
  {
   "cell_type": "code",
   "execution_count": 117,
   "metadata": {},
   "outputs": [],
   "source": [
    "dataset_filename = \"datasets/Mobile phone price.csv\"\n",
    "data = pd.read_csv(dataset_filename, encoding='utf-8')\n",
    "\n",
    "\n",
    "selected_columns = ['Brand_LabelEncoded','Storage ','RAM ', 'Screen Size (inches)' ,'Battery Capacity (mAh)']\n",
    "target_column = 'Price ($)'\n",
    "columns_to_drop = ['Model', 'Camera (MP)']\n",
    "data = data.drop(columns=columns_to_drop)\n",
    "data = data.dropna()\n"
   ]
  },
  {
   "cell_type": "code",
   "execution_count": 118,
   "metadata": {},
   "outputs": [
    {
     "name": "stdout",
     "output_type": "stream",
     "text": [
      "Brand_LabelEncoded 0\n",
      "Storage  0\n",
      "RAM  0\n",
      "Screen Size (inches) 2\n",
      "Battery Capacity (mAh) 0\n"
     ]
    }
   ],
   "source": [
    "\n",
    "data['Price ($)'] = data['Price ($)'].str.replace(',', '.', regex=False)\n",
    "data['Price ($)'] = data['Price ($)'].str.replace('$', '', regex=False)\n",
    "data['Price ($)'] = pd.to_numeric(data['Price ($)'], errors='coerce')\n",
    "\n",
    "data['Storage '] = data['Storage '].str.replace('GB', '', regex=False)\n",
    "data['RAM '] = data['RAM '].str.replace('GB', '', regex=False)\n",
    "data['Screen Size (inches)'] = data['Screen Size (inches)'].str.replace(',', '.')\n",
    "\n",
    "le = LabelEncoder()\n",
    "data['Brand_LabelEncoded'] = le.fit_transform(data['Brand'])\n",
    "brand_code_mapping = {brand_name: brand_code for brand_name, brand_code in zip(data['Brand'], data['Brand_LabelEncoded'])}\n",
    "\n",
    "\n",
    "\n",
    "# Примените нормализацию к данным\n",
    "\n",
    "for selected_column in selected_columns:    \n",
    "    data[selected_column] = pd.to_numeric(data[selected_column], errors='coerce')\n",
    "    print(f\"{selected_column} {data[selected_column].isna().sum()}\")\n",
    "    \n",
    "data = data.dropna()\n",
    "# data.head()\n",
    "\n"
   ]
  },
  {
   "cell_type": "code",
   "execution_count": 119,
   "metadata": {},
   "outputs": [
    {
     "name": "stdout",
     "output_type": "stream",
     "text": [
      "Mean Squared Error: 23699.537943940522\n",
      "R-squared: 0.7300458571279869\n"
     ]
    }
   ],
   "source": [
    "X = data[selected_columns]  \n",
    "y = data[target_column]  \n",
    "\n",
    "X_train, X_test, y_train, y_test = train_test_split(X, y, test_size=0.2, random_state=42)\n",
    "\n",
    "\n",
    "model = LinearRegression()\n",
    "model.fit(X_train, y_train)\n",
    "y_pred = model.predict(X_test)\n",
    "\n",
    "\n",
    "\n",
    "mse = mean_squared_error(y_test, y_pred)\n",
    "r2 = r2_score(y_test, y_pred)\n",
    "\n",
    "print(\"Mean Squared Error:\", mse)\n",
    "print(\"R-squared:\", r2)\n"
   ]
  },
  {
   "cell_type": "code",
   "execution_count": 120,
   "metadata": {},
   "outputs": [
    {
     "name": "stdout",
     "output_type": "stream",
     "text": [
      "Brand_LabelEncoded Mean Squared Error: 72258.163\n",
      "Brand_LabelEncoded R-squared: 0.177\n",
      "\n",
      "Storage  Mean Squared Error: 49062.562\n",
      "Storage  R-squared: 0.441\n",
      "\n",
      "RAM  Mean Squared Error: 68486.783\n",
      "RAM  R-squared: 0.22\n",
      "\n",
      "Screen Size (inches) Mean Squared Error: 91173.052\n",
      "Screen Size (inches) R-squared: -0.039\n",
      "\n",
      "Battery Capacity (mAh) Mean Squared Error: 65466.541\n",
      "Battery Capacity (mAh) R-squared: 0.254\n",
      "\n"
     ]
    }
   ],
   "source": [
    "for selected_column in selected_columns:\n",
    "    X = data[selected_column].array.reshape(-1, 1) \n",
    "    y = data[target_column]  \n",
    "  \n",
    "    X_train, X_test, y_train, y_test = train_test_split(X, y, test_size=0.2, random_state=42)\n",
    "    model = LinearRegression()\n",
    "    model.fit(X_train, y_train)\n",
    "    y_pred = model.predict(X_test)\n",
    "\n",
    "    \n",
    "\n",
    "    mse = mean_squared_error(y_test, y_pred)\n",
    "    r2 = r2_score(y_test, y_pred)\n",
    "\n",
    "    print(f\"{selected_column} Mean Squared Error:\", round(mse,3))\n",
    "    print(f\"{selected_column} R-squared:\", round(r2,3))\n",
    "    print()"
   ]
  }
 ],
 "metadata": {
  "kernelspec": {
   "display_name": "Python 3",
   "language": "python",
   "name": "python3"
  },
  "language_info": {
   "codemirror_mode": {
    "name": "ipython",
    "version": 3
   },
   "file_extension": ".py",
   "mimetype": "text/x-python",
   "name": "python",
   "nbconvert_exporter": "python",
   "pygments_lexer": "ipython3",
   "version": "3.10.11"
  },
  "orig_nbformat": 4
 },
 "nbformat": 4,
 "nbformat_minor": 2
}
